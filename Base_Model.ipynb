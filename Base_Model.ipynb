{
 "cells": [
  {
   "cell_type": "code",
   "execution_count": 1,
   "metadata": {},
   "outputs": [],
   "source": [
    "#IMPORTS \n",
    "import cdsapi\n",
    "import pygrib\n",
    "\n",
    "import numpy as np\n",
    "import pandas as pd\n",
    "from sklearn.model_selection import train_test_split\n",
    "from sklearn.neighbors import KNeighborsRegressor\n",
    "from sklearn.metrics import mean_squared_error, r2_score, mean_absolute_error\n",
    "from sklearn.linear_model import LinearRegression\n",
    "import matplotlib.pyplot as plt\n",
    "from sklearn.model_selection import KFold\n",
    "\n",
    "#from geonamescache import GeonamesCache\n",
    "import pycountry\n",
    "import rasterio\n",
    "from scipy.spatial import cKDTree\n",
    "from tqdm import tqdm\n",
    "from datetime import datetime\n",
    "\n",
    "import zipfile\n",
    "import os\n",
    "import gdown"
   ]
  },
  {
   "cell_type": "markdown",
   "metadata": {},
   "source": [
    "## Countries"
   ]
  },
  {
   "cell_type": "code",
   "execution_count": 2,
   "metadata": {},
   "outputs": [],
   "source": [
    "countries_zip_url = \"https://drive.google.com/uc?id=1UQzdO7suT0BnwKBeNybMG97vM9GIDogA\"\n",
    "countries_zip_file_path = \"../allCountries.zip\"\n",
    "\n",
    "# Download the ZIP file if it doesn't exist; otherwise, proceed to read the TXT file.\n",
    "if not os.path.exists(countries_zip_file_path):\n",
    "    gdown.download(countries_zip_url, countries_zip_file_path, quiet=False)\n",
    "\n",
    "with zipfile.ZipFile(countries_zip_file_path) as z:\n",
    "    countries_txt_filename = \"allCountries.txt\"\n",
    "\n",
    "    with z.open(countries_txt_filename) as txt_file:\n",
    "        countries_df = pd.read_csv(txt_file, sep=\"\\t\", header=None)\n",
    "\n",
    "print(f\"\\nshape: {countries_df.shape}\")\n",
    "countries_df.head()"
   ]
  },
  {
   "cell_type": "markdown",
   "metadata": {},
   "source": [
    "## EUI"
   ]
  },
  {
   "cell_type": "code",
   "execution_count": null,
   "metadata": {},
   "outputs": [],
   "source": [
    "eui_url = \"https://drive.google.com/uc?id=12qGq_DLefI1RihIF_RKQUyJtm480-xRC\"\n",
    "eui_df = pd.read_csv(eui_url)\n",
    "\n",
    "print(f\"shape: {eui_df.shape}\")\n",
    "eui_df.head()"
   ]
  },
  {
   "cell_type": "markdown",
   "metadata": {},
   "source": [
    "## Data preperation for EUI"
   ]
  },
  {
   "cell_type": "code",
   "execution_count": null,
   "metadata": {},
   "outputs": [],
   "source": [
    "merged_df = pd.merge(\n",
    "    countries_df, eui_df, left_on=0, right_on=\"Geonames ID\", how=\"inner\"\n",
    ")\n",
    "merged_df.rename(columns={4: \"latitude\", 5: \"longitude\"}, inplace=True)\n",
    "\n",
    "merged_df"
   ]
  },
  {
   "cell_type": "markdown",
   "metadata": {},
   "source": [
    "## Region"
   ]
  },
  {
   "cell_type": "code",
   "execution_count": 5,
   "metadata": {},
   "outputs": [],
   "source": [
    "merged_df['Region'] = merged_df[17].str.split('/').str[0]\n",
    "\n",
    "region_mapping = {\n",
    "    'Asia': 'Asia & Oceania',\n",
    "    'Africa': 'Africa',\n",
    "    'Europe': 'Europe',\n",
    "    'America': 'America',\n",
    "    'Pacific': 'Asia & Oceania',\n",
    "    'Indian': 'Asia & Oceania',\n",
    "    'Australia': 'Asia & Oceania',\n",
    "    'Atlantic': 'Atlantic'\n",
    "}\n",
    "\n",
    "merged_df['Region Grouped'] = merged_df['Region'].map(region_mapping)\n",
    "\n",
    "merged_df.loc[merged_df[1] == 'Praia', 'Region Grouped'] = 'Africa'"
   ]
  },
  {
   "cell_type": "code",
   "execution_count": null,
   "metadata": {},
   "outputs": [],
   "source": [
    "merged_df['Region Grouped'].value_counts()"
   ]
  },
  {
   "cell_type": "code",
   "execution_count": 7,
   "metadata": {},
   "outputs": [],
   "source": [
    "merged_df[\"nearest_hdd\"] = np.nan\n",
    "latitude = merged_df[\"latitude\"]"
   ]
  },
  {
   "cell_type": "markdown",
   "metadata": {},
   "source": [
    "# Temperature"
   ]
  },
  {
   "cell_type": "markdown",
   "metadata": {},
   "source": [
    "### Note: The following tempreture data is downloaded via API. I chooes the data as 2m temperature, 2023, April, 22, 3:00, NetCDF.\n",
    "\n",
    "### Here is the API: \n",
    "```\n",
    "import cdsapi\n",
    "\n",
    "c = cdsapi.Client()\n",
    "\n",
    "c.retrieve(\n",
    "    'reanalysis-era5-single-levels',\n",
    "    {\n",
    "        'product_type': 'reanalysis',\n",
    "        'format': 'netcdf',\n",
    "        'variable': '2m_temperature',\n",
    "        'year': '2023',\n",
    "        'month': '04',\n",
    "        'day': '22',\n",
    "        'time': '03:00',\n",
    "    },\n",
    "    'download.nc')\n",
    "```"
   ]
  },
  {
   "cell_type": "code",
   "execution_count": null,
   "metadata": {},
   "outputs": [],
   "source": [
    "''' \n",
    "c = cdsapi.Client()\n",
    "\n",
    "c.retrieve(\n",
    "    \"reanalysis-era5-single-levels\",\n",
    "    {\n",
    "        \"product_type\": \"reanalysis\",\n",
    "        \"format\": \"netcdf\",\n",
    "        \"variable\": \"2m_temperature\",\n",
    "        \"year\": \"2023\",\n",
    "        \"month\": \"04\",\n",
    "        \"day\": \"22\",\n",
    "        \"time\": \"03:00\",\n",
    "    },\n",
    "    \"download.nc\",\n",
    ")\n",
    "'''"
   ]
  },
  {
   "cell_type": "code",
   "execution_count": null,
   "metadata": {},
   "outputs": [],
   "source": [
    "temp_thresh = 18\n",
    "file_path = \"./download.nc\"\n",
    "\n",
    "\n",
    "def get_hdd(temperature, temp_thresh):\n",
    "    keep = temperature < temp_thresh\n",
    "    hdd = np.zeros(temperature.shape)\n",
    "    hdd[keep] = temp_thresh - temperature[keep]\n",
    "    return hdd / 24  # Convert from heating degree hours to degree days\n",
    "\n",
    "\n",
    "with rasterio.open(file_path) as src:\n",
    "    celsius_factor = -273.15\n",
    "    temp_conversion = lambda x: x + celsius_factor\n",
    "\n",
    "    # blocky, blockx = src.block_shapes[0]\n",
    "    n_lon = src.width\n",
    "    n_lat = src.height\n",
    "    left = src.bounds.left\n",
    "    right = src.bounds.right\n",
    "    bottom = src.bounds.bottom\n",
    "    top = src.bounds.top\n",
    "    new_count = 1\n",
    "    #new_crs = rasterio.crs.CRS.from_string(\"EPSG:4326\")\n",
    "    new_crs = {'init': 'epsg:4326'}\n",
    "    new_transform = rasterio.transform.from_bounds(\n",
    "        left, bottom, right, top, n_lon, n_lat\n",
    "    )\n",
    "\n",
    "    out_profile = {\n",
    "        \"driver\": \"GTiff\",\n",
    "        \"dtype\": \"float64\",\n",
    "        \"nodata\": None,\n",
    "        \"width\": n_lon,\n",
    "        \"height\": n_lat,\n",
    "        \"count\": new_count,\n",
    "        \"crs\": new_crs,\n",
    "        \"transform\": new_transform,\n",
    "        \"tiled\": False,\n",
    "        \"interleave\": \"band\",\n",
    "        # 'blockxsize': blockx,\n",
    "        # 'blockysize': blocky,\n",
    "        \"compress\": \"lzw\",\n",
    "        \"driver\": \"GTiff\",\n",
    "        \"dtype\": \"float64\",\n",
    "        \"interleave\": \"band\",\n",
    "        \"nodata\": 99999999,\n",
    "        # 'tiled': True}\n",
    "    }\n",
    "\n",
    "    yearly_hdd = np.zeros((n_lat, n_lon))\n",
    "\n",
    "    for i in tqdm(src.indexes):\n",
    "        # Read the data from this timepoint\n",
    "        raw_data = src.read(i)\n",
    "        # Get the quarter from which the data are from\n",
    "        time = int(src.tags(i)[\"NETCDF_DIM_valid_time\"])\n",
    "        # Convert the temperature data to Celcius\n",
    "        date_time = datetime.utcfromtimestamp(time)\n",
    "        year = date_time.year\n",
    "\n",
    "        temperature = temp_conversion(raw_data)\n",
    "        # Compute the HDDs\n",
    "        chdd = get_hdd(temperature, temp_thresh)\n",
    "\n",
    "        yearly_hdd += chdd\n",
    "\n",
    "        # # Accumulate HDDs only into the corresponding quarter----modify to\n",
    "        # hdd_quarter[quarter] += chdd\n",
    "lon_arr = np.linspace(left, right, n_lon)\n",
    "lat_arr = np.linspace(bottom, top, n_lat)\n",
    "lon_grid, lat_grid = np.meshgrid(lon_arr, lat_arr)\n",
    "lon_flat = lon_grid.ravel()\n",
    "lat_flat = lat_grid.ravel()\n",
    "hdd_flat = yearly_hdd.ravel()"
   ]
  },
  {
   "cell_type": "code",
   "execution_count": null,
   "metadata": {},
   "outputs": [],
   "source": [
    "# get nearest point with KDtree\n",
    "tree = cKDTree(np.column_stack((lat_flat, lon_flat)))\n",
    "\n",
    "for index, row in tqdm(merged_df.iterrows(), total=merged_df.shape[0]):\n",
    "    latitude = row[\"latitude\"]\n",
    "    longitude = row[\"longitude\"]\n",
    "    # latitude = 45.0\n",
    "    # longitude = -75.0\n",
    "    # Query the tree for the nearest point\n",
    "    dist, idx = tree.query([latitude, longitude])\n",
    "    # Get the nearest HDD value\n",
    "    merged_df.at[index, \"nearest_hdd\"] = hdd_flat[idx]"
   ]
  },
  {
   "cell_type": "markdown",
   "metadata": {},
   "source": [
    "## GDP"
   ]
  },
  {
   "cell_type": "code",
   "execution_count": null,
   "metadata": {},
   "outputs": [],
   "source": [
    "gdp_data_url = (\n",
    "    \"https://drive.google.com/uc?id=160t-E-kILHcjXzVnFTwD-Us1ulLNtA88&export=download\"\n",
    ")\n",
    "gdp_data = pd.read_csv(gdp_data_url)\n",
    "\n",
    "country_gdp = gdp_data[gdp_data[\"Level\"] == \"National\"][[\"Country\", \"2022\"]].rename(\n",
    "    columns={\"2022\": \"GDP_2022\"}\n",
    ")\n",
    "\n",
    "country_gdp['Country'] = country_gdp['Country'].replace({\n",
    "    'Argentina urban': 'Argentina',\n",
    "    'Chili': 'Chile',\n",
    "    'Russian Federation': 'Russia',\n",
    "    'United States': 'United States of America',\n",
    "    'Congo Democratic Republic' : 'Congo, Democratic Republic of the',\n",
    "    'Congo Brazzaville':'Congo, Republic of the',\n",
    "    'Saint Lucia':'St. Lucia',\n",
    "    'Myanmar': 'Burma',\n",
    "    'Sao Tome & Principe':'Sao Tome and Principe',\n",
    "    'Timor Leste': 'East Timor',\n",
    "    'Gambia':'Gambia, The',\n",
    "    'Guinea Bissau':'Guinea-Bissau',\n",
    "    'Trinidad & Tobago' :'Trinidad and Tobago',\n",
    "    'Eswatini':'Swaziland',\n",
    "    'Central African Republic CAR': 'Central African Republic',\n",
    "    'Lao':'Laos',\n",
    "    # montenegro independece 2006 from Serbia\n",
    "  \n",
    "})\n",
    "\n",
    "# Perform a left merge to keep all rows from the original dataset\n",
    "merged_df = pd.merge(\n",
    "    merged_df, country_gdp, on=\"Country\", how=\"left\"\n",
    ")\n",
    "\n",
    "merged_df[merged_df['GDP_2022'].isna()]"
   ]
  },
  {
   "cell_type": "code",
   "execution_count": null,
   "metadata": {},
   "outputs": [],
   "source": [
    "merged_df.head()"
   ]
  },
  {
   "cell_type": "code",
   "execution_count": 13,
   "metadata": {},
   "outputs": [],
   "source": [
    "# Load the Urbanization Rate dataset, skipping metadata rows if necessary\n",
    "urbanization_rate_url = (\n",
    "    \"https://drive.google.com/uc?id=1YteyPHAWnJUKG0LWogS98EYnwjRTeZDf&export=download\"\n",
    ")\n",
    "urbanization_rate = pd.read_csv(urbanization_rate_url, skiprows=4)\n",
    "\n",
    "urbanization_rate['Country Name'] = urbanization_rate['Country Name'].replace({\n",
    "    'Argentina urban': 'Argentina',\n",
    "    'Chili': 'Chile',\n",
    "    'Russian Federation': 'Russia',\n",
    "    'United States': 'United States of America',\n",
    "    'Congo Democratic Republic' : 'Congo, Democratic Republic of the',\n",
    "    'Congo, Dem. Rep.':'Congo, Democratic Republic of the',\n",
    "    'Congo Brazzaville':'Congo, Republic of the',\n",
    "    'Congo, Rep.':'Congo, Republic of the',\n",
    "    'Saint Lucia':'St. Lucia',\n",
    "    'Myanmar': 'Burma',\n",
    "    'Sao Tome & Principe':'Sao Tome and Principe',\n",
    "    'Timor Leste': 'East Timor',\n",
    "    'Gambia':'Gambia, The',\n",
    "    'Guinea Bissau':'Guinea-Bissau',\n",
    "    'Trinidad & Tobago' :'Trinidad and Tobago',\n",
    "    'Eswatini':'Swaziland',\n",
    "    'Central African Republic CAR': 'Central African Republic',\n",
    "    'Lao':'Laos',\n",
    "    'Egypt, Arab Rep.':'Egypt'\n",
    "    # montenegro independece 2006 from Serbia\n",
    "  \n",
    "})\n",
    "\n",
    "# Keep only relevant columns: 'Country Name' and '2022'\n",
    "urbanization_rate_2022 = urbanization_rate[[\"Country Name\", \"2022\"]].rename(\n",
    "    columns={\"Country Name\": \"Country\", \"2022\": \"Urbanization_Rate_2022\"}\n",
    ")\n",
    "\n",
    "# \n",
    "# Step 6: Perform a second left merge to add the urbanization rate feature\n",
    "merged_df = pd.merge(\n",
    "    merged_df, urbanization_rate_2022, on=\"Country\", how=\"left\"\n",
    ")\n"
   ]
  },
  {
   "cell_type": "code",
   "execution_count": null,
   "metadata": {},
   "outputs": [],
   "source": [
    "# Step 7: Check for rows with missing Urbanization Rate data\n",
    "missing_urbanization_rate = merged_df[\n",
    "    merged_df[\"Urbanization_Rate_2022\"].isna()\n",
    "]\n",
    " \n",
    "missing_urbanization_rate"
   ]
  },
  {
   "cell_type": "code",
   "execution_count": null,
   "metadata": {},
   "outputs": [],
   "source": [
    "merged_df.columns"
   ]
  },
  {
   "cell_type": "markdown",
   "metadata": {},
   "source": [
    "## Models"
   ]
  },
  {
   "cell_type": "code",
   "execution_count": null,
   "metadata": {},
   "outputs": [],
   "source": [
    "merged_df = merged_df.dropna(subset=[\"GDP_2022\", \"Urbanization_Rate_2022\"])\n",
    "merged_df.head()\n"
   ]
  },
  {
   "cell_type": "code",
   "execution_count": 18,
   "metadata": {},
   "outputs": [],
   "source": [
    "def mean_absolute_percentage_error(y_true, y_pred):\n",
    "    return np.mean(np.abs((y_true - y_pred) / y_true)) * 100"
   ]
  },
  {
   "cell_type": "code",
   "execution_count": 26,
   "metadata": {},
   "outputs": [],
   "source": [
    "X_knn = merged_df[[\"latitude\", \"longitude\"]]\n",
    "X_lr = merged_df[[\"nearest_hdd\", \"GDP_2022\",\"Urbanization_Rate_2022\"]]\n",
    "y_residential = merged_df[\"Residential EUI (kWh/m2/year)\"]\n",
    "y_non_residential = merged_df[\"Non-residential EUI (kWh/m2/year)\"]\n",
    "\n",
    "def train_and_evaluate_model(model, X_train, y_train, X_test, y_test):\n",
    "    model.fit(X_train, y_train)\n",
    "    y_pred = model.predict(X_test)\n",
    "    return y_pred, y_test\n",
    "\n",
    "def region_validation(X, y, model_class, model_name):\n",
    "    regions = merged_df['Region Grouped'].unique()\n",
    "    y_test_all = np.array([])\n",
    "    y_pred_all = np.array([])\n",
    "\n",
    "    for region in regions:\n",
    "        mask = merged_df['Region Grouped'] == region\n",
    "        X_train = X[mask]\n",
    "        y_train = y[mask]\n",
    "        X_test = X[~mask]\n",
    "        y_test = y[~mask]\n",
    "\n",
    "        model = model_class()\n",
    "        y_pred, _ = train_and_evaluate_model(model, X_train, y_train, X_test, y_test)\n",
    "\n",
    "        y_test_all = np.concatenate((y_test_all, y_test))\n",
    "        y_pred_all = np.concatenate((y_pred_all, y_pred))\n",
    "\n",
    "    metrics = {\n",
    "        'MSE': mean_squared_error(y_test_all, y_pred_all),\n",
    "        'R²': r2_score(y_test_all, y_pred_all),\n",
    "        'MAE': mean_absolute_error(y_test_all, y_pred_all),\n",
    "        'RMSE': np.sqrt(mean_squared_error(y_test_all, y_pred_all)),\n",
    "        'MAPE': mean_absolute_percentage_error(y_test_all, y_pred_all),\n",
    "        'WAPE': np.sum(np.abs(y_test_all - y_pred_all)) / np.sum(np.abs(y_test_all)) * 100\n",
    "    }\n",
    "    metrics['Model'] = model_name\n",
    "    return metrics\n",
    "\n",
    "def k_fold_validation(X, y, model_class, model_name, n_splits=5):\n",
    "    kf = KFold(n_splits=n_splits, shuffle=True, random_state=42)\n",
    "    y_test_all = np.array([])\n",
    "    y_pred_all = np.array([])\n",
    "\n",
    "    for train_index, test_index in kf.split(X):\n",
    "        X_train, X_test = X.iloc[train_index], X.iloc[test_index]\n",
    "        y_train, y_test = y.iloc[train_index], y.iloc[test_index]\n",
    "\n",
    "        model = model_class()\n",
    "        y_pred, _ = train_and_evaluate_model(model, X_train, y_train, X_test, y_test)\n",
    "\n",
    "        y_test_all = np.concatenate((y_test_all, y_test))\n",
    "        y_pred_all = np.concatenate((y_pred_all, y_pred))\n",
    "\n",
    "    metrics = {\n",
    "        'MSE': mean_squared_error(y_test_all, y_pred_all),\n",
    "        'R²': r2_score(y_test_all, y_pred_all),\n",
    "        'MAE': mean_absolute_error(y_test_all, y_pred_all),\n",
    "        'RMSE': np.sqrt(mean_squared_error(y_test_all, y_pred_all)),\n",
    "        'MAPE': mean_absolute_percentage_error(y_test_all, y_pred_all),\n",
    "        'WAPE': np.sum(np.abs(y_test_all - y_pred_all)) / np.sum(np.abs(y_test_all)) * 100\n",
    "    }\n",
    "    metrics['Model'] = f'K-Fold {model_name}'\n",
    "    return metrics\n",
    "\n",
    "metrics_residential = []\n",
    "metrics_non_residential = []\n",
    "\n",
    "metrics_residential.append(region_validation(X_knn, y_residential, KNeighborsRegressor, 'KNN (Res EUI, Lat-Long) - Regional'))\n",
    "metrics_residential.append(region_validation(X_lr, y_residential, LinearRegression, 'LR (Res EUI, HDD|GDP|URB) - Regional'))\n",
    "metrics_non_residential.append(region_validation(X_knn, y_non_residential, KNeighborsRegressor, 'KNN (Non-Res EUI, Lat-Long) - Regional'))\n",
    "metrics_non_residential.append(region_validation(X_lr, y_non_residential, LinearRegression, 'LR (Non-Res EUI, HDD|GDP|URB) - Regional'))\n",
    "\n",
    "n_regions = merged_df['Region Grouped'].nunique()\n",
    "metrics_residential.append(k_fold_validation(X_knn, y_residential, KNeighborsRegressor, 'KNN (Res EUI, Lat-Long) - K-Fold', n_splits=n_regions))\n",
    "metrics_residential.append(k_fold_validation(X_lr, y_residential, LinearRegression, 'LR (Res EUI, HDD|GDP|URB) - K-Fold', n_splits=n_regions))\n",
    "metrics_non_residential.append(k_fold_validation(X_knn, y_non_residential, KNeighborsRegressor, 'KNN (Non-Res EUI, Lat-Long) - K-Fold', n_splits=n_regions))\n",
    "metrics_non_residential.append(k_fold_validation(X_lr, y_non_residential, LinearRegression, 'LR (Non-Res EUI, HDD|GDP|URB) - K-Fold', n_splits=n_regions))\n",
    "\n",
    "metrics_residential_df = pd.DataFrame(metrics_residential).round(2)\n",
    "metrics_non_residential_df = pd.DataFrame(metrics_non_residential).round(2)\n",
    "\n",
    "metrics_residential_df = metrics_residential_df[['Model'] + [col for col in metrics_residential_df.columns if col != 'Model']]\n",
    "metrics_non_residential_df = metrics_non_residential_df[['Model'] + [col for col in metrics_non_residential_df.columns if col != 'Model']]\n"
   ]
  },
  {
   "cell_type": "code",
   "execution_count": null,
   "metadata": {},
   "outputs": [],
   "source": [
    "metrics_residential_df "
   ]
  },
  {
   "cell_type": "code",
   "execution_count": null,
   "metadata": {},
   "outputs": [],
   "source": [
    "metrics_non_residential_df"
   ]
  }
 ],
 "metadata": {
  "kernelspec": {
   "display_name": "base",
   "language": "python",
   "name": "python3"
  },
  "language_info": {
   "codemirror_mode": {
    "name": "ipython",
    "version": 3
   },
   "file_extension": ".py",
   "mimetype": "text/x-python",
   "name": "python",
   "nbconvert_exporter": "python",
   "pygments_lexer": "ipython3",
   "version": "3.11.5"
  }
 },
 "nbformat": 4,
 "nbformat_minor": 2
}
