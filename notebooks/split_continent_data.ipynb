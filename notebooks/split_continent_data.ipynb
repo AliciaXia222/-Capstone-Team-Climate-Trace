{
 "cells": [
  {
   "cell_type": "code",
   "execution_count": null,
   "metadata": {},
   "outputs": [],
   "source": [
    "import pandas as pd\n",
    "import pygrib\n",
    "import numpy as np\n",
    "import zipfile\n",
    "import os"
   ]
  },
  {
   "cell_type": "code",
   "execution_count": null,
   "metadata": {},
   "outputs": [],
   "source": [
    "countries_zip_url = \"https://drive.google.com/uc?id=1UQzdO7suT0BnwKBeNybMG97vM9GIDogA\"\n",
    "countries_zip_file_path = \"../allCountries.zip\"\n",
    "\n",
    "# Download the ZIP file if it doesn't exist; otherwise, proceed to read the TXT file.\n",
    "if not os.path.exists(countries_zip_file_path):\n",
    "    gdown.download(countries_zip_url, countries_zip_file_path, quiet=False)\n",
    "\n",
    "with zipfile.ZipFile(countries_zip_file_path) as z:\n",
    "    countries_txt_filename = \"allCountries.txt\"\n",
    "\n",
    "    with z.open(countries_txt_filename) as txt_file:\n",
    "        countries_df = pd.read_csv(txt_file, sep=\"\\t\", header=None)"
   ]
  },
  {
   "cell_type": "code",
   "execution_count": null,
   "metadata": {},
   "outputs": [],
   "source": [
    "# Filter rows based on the new set of 6 continents\n",
    "# This time we will filter 'Africa', 'Asia', 'Europe', 'Oceania', 'Antarctica', and 'Others' (using Atlantic, Indian, Arctic)\n",
    "africa_df = countries_df[countries_df[17].str.contains(\"Africa\", na=False)]\n",
    "asia_df = countries_df[countries_df[17].str.contains(\"Asia\", na=False)]\n",
    "europe_df = countries_df[countries_df[17].str.contains(\"Europe\", na=False)]\n",
    "oceania_df = countries_df[countries_df[17].str.contains(\"Australia|Pacific\", na=False)]\n",
    "antarctica_df = countries_df[countries_df[17].str.contains(\"Antarctica\", na=False)]\n",
    "others_df = countries_df[\n",
    "    countries_df[17].str.contains(\"Atlantic|Indian|Arctic\", na=False)\n",
    "]\n",
    "\n",
    "# Combine the new 6 continents into one DataFrame\n",
    "new_main_continents = pd.concat(\n",
    "    [africa_df, asia_df, europe_df, oceania_df, antarctica_df, others_df]\n",
    ")\n",
    "\n",
    "# The remaining rows that do not match any of the above filters (in this example, America)\n",
    "remaining_df = countries_df[\n",
    "    ~countries_df[17].str.contains(\n",
    "        \"Africa|Asia|Europe|Australia|Pacific|Antarctica|Atlantic|Indian|Arctic\",\n",
    "        na=False,\n",
    "    )\n",
    "]\n",
    "\n",
    "# Save the new_main_continents to a CSV file\n",
    "new_main_continents.to_csv(\"except_america_continents.csv\", index=False)\n",
    "\n",
    "# Save the remaining continent (America) to another CSV file\n",
    "remaining_df.to_csv(\"america_continent.csv\", index=False)\n",
    "\n",
    "print(\"Saved except_america_continents.csv and america_continent.csv\")"
   ]
  }
 ],
 "metadata": {
  "kernelspec": {
   "display_name": "base",
   "language": "python",
   "name": "python3"
  },
  "language_info": {
   "codemirror_mode": {
    "name": "ipython",
    "version": 3
   },
   "file_extension": ".py",
   "mimetype": "text/x-python",
   "name": "python",
   "nbconvert_exporter": "python",
   "pygments_lexer": "ipython3",
   "version": "3.11.6"
  }
 },
 "nbformat": 4,
 "nbformat_minor": 2
}
